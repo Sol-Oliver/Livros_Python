{
 "cells": [
  {
   "cell_type": "code",
   "execution_count": 1,
   "metadata": {},
   "outputs": [
    {
     "name": "stdout",
     "output_type": "stream",
     "text": [
      "Ada Lovelace\n"
     ]
    }
   ],
   "source": [
    "name = \"ada lovelace\"\n",
    "print(name.title()) # mudando a primeira letra para maiúscula através do método title()"
   ]
  },
  {
   "cell_type": "code",
   "execution_count": 2,
   "metadata": {},
   "outputs": [
    {
     "name": "stdout",
     "output_type": "stream",
     "text": [
      "ADA LOVELACE\n",
      "ada lovelace\n"
     ]
    }
   ],
   "source": [
    "name = \"Ada Lovelace\"\n",
    "print(name.upper()) #muda todas as letras para maiúscula através do método upper()\n",
    "print(name.lower()) #muda todas as letras para minúscula atráves do método lower()"
   ]
  },
  {
   "cell_type": "code",
   "execution_count": 3,
   "metadata": {},
   "outputs": [
    {
     "name": "stdout",
     "output_type": "stream",
     "text": [
      "ada lovelace\n"
     ]
    }
   ],
   "source": [
    "first_name = \"ada\" \n",
    "last_name = \"lovelace\" \n",
    "full_name = first_name + \" \" + last_name  #Junção de variáveis\n",
    "print(full_name) "
   ]
  },
  {
   "cell_type": "code",
   "execution_count": 4,
   "metadata": {},
   "outputs": [
    {
     "name": "stdout",
     "output_type": "stream",
     "text": [
      "Hello, Ada Lovelace!\n"
     ]
    }
   ],
   "source": [
    "print(\"Hello, \" + full_name.title() + \"!\") #adiciona a palavra Hello e muda as primeiras letras para \n",
    "                                           #maiúscula"
   ]
  },
  {
   "cell_type": "code",
   "execution_count": 5,
   "metadata": {},
   "outputs": [
    {
     "name": "stdout",
     "output_type": "stream",
     "text": [
      "Languages:\n",
      "Python\n",
      "C\n",
      "JavaScript\n"
     ]
    }
   ],
   "source": [
    "print(\"Languages:\\nPython\\nC\\nJavaScript\") #acrescentando Quebra de linha (\\n)"
   ]
  },
  {
   "cell_type": "code",
   "execution_count": 6,
   "metadata": {},
   "outputs": [
    {
     "name": "stdout",
     "output_type": "stream",
     "text": [
      "\tPython\n"
     ]
    }
   ],
   "source": [
    "print(\"\\tPython\")#acresccentando tabulação (\\t)"
   ]
  },
  {
   "cell_type": "code",
   "execution_count": 7,
   "metadata": {},
   "outputs": [
    {
     "name": "stdout",
     "output_type": "stream",
     "text": [
      "Languages:\n",
      "\tPython\n",
      "\tC\n",
      "\tJavaScript\n"
     ]
    }
   ],
   "source": [
    " print(\"Languages:\\n\\tPython\\n\\tC\\n\\tJavaScript\") #tabulações e quebra de linha"
   ]
  },
  {
   "cell_type": "code",
   "execution_count": 11,
   "metadata": {},
   "outputs": [
    {
     "name": "stdout",
     "output_type": "stream",
     "text": [
      "['honda', 'yamaha', 'suzuki']\n"
     ]
    }
   ],
   "source": [
    "motorcycles = ['honda', 'yamaha', 'suzuki'] #lista \n",
    "print(motorcycles)"
   ]
  },
  {
   "cell_type": "code",
   "execution_count": 13,
   "metadata": {},
   "outputs": [
    {
     "name": "stdout",
     "output_type": "stream",
     "text": [
      "['ducati', 'ducati', 'suzuki']\n"
     ]
    }
   ],
   "source": [
    "motorcycles[0] = 'ducati'#mudando um nome em uma lista\n",
    "print(motorcycles) "
   ]
  },
  {
   "cell_type": "code",
   "execution_count": 10,
   "metadata": {},
   "outputs": [
    {
     "name": "stdout",
     "output_type": "stream",
     "text": [
      "['ducati', 'yamaha', 'suzuki', 'ducati']\n"
     ]
    }
   ],
   "source": [
    "motorcycles.append('ducati') #concatenando elementos no final de uma lista\n",
    "print(motorcycles) "
   ]
  },
  {
   "cell_type": "code",
   "execution_count": 11,
   "metadata": {},
   "outputs": [
    {
     "name": "stdout",
     "output_type": "stream",
     "text": [
      "['honda', 'yamaha', 'suzuki']\n"
     ]
    }
   ],
   "source": [
    "#O método append() facilita criar listas dinamicamente.\n",
    "motorcycles = []\n",
    " \n",
    "motorcycles.append('honda')\n",
    "motorcycles.append('yamaha') \n",
    "motorcycles.append('suzuki')\n",
    " \n",
    "print(motorcycles)"
   ]
  },
  {
   "cell_type": "code",
   "execution_count": 12,
   "metadata": {},
   "outputs": [
    {
     "name": "stdout",
     "output_type": "stream",
     "text": [
      "['honda', 'yamaha', 'ducati', 'suzuki']\n"
     ]
    }
   ],
   "source": [
    "#adicionando um elemento em qualquer posição usando o método insert()\n",
    "motorcycles = ['honda', 'yamaha', 'suzuki']\n",
    "motorcycles.insert(2, 'ducati')\n",
    "print(motorcycles) "
   ]
  },
  {
   "cell_type": "code",
   "execution_count": 13,
   "metadata": {},
   "outputs": [
    {
     "name": "stdout",
     "output_type": "stream",
     "text": [
      "['yamaha', 'ducati', 'suzuki']\n"
     ]
    }
   ],
   "source": [
    "#Removendo um item usando a instrução del \n",
    "del motorcycles[0]\n",
    "print(motorcycles) "
   ]
  },
  {
   "cell_type": "code",
   "execution_count": 14,
   "metadata": {},
   "outputs": [
    {
     "name": "stdout",
     "output_type": "stream",
     "text": [
      "['yamaha', 'ducati']\n",
      "suzuki\n"
     ]
    }
   ],
   "source": [
    "#Removendo um item com o método pop() \n",
    "#O método pop() remove o último item de uma lista, mas permite que você trabalhe\n",
    "#com esse item depois da remoção\n",
    "\n",
    "popped_motorcycle = motorcycles.pop()\n",
    "print(motorcycles)\n",
    "print(popped_motorcycle)"
   ]
  },
  {
   "cell_type": "code",
   "execution_count": 15,
   "metadata": {},
   "outputs": [
    {
     "name": "stdout",
     "output_type": "stream",
     "text": [
      "The last motorcycle I owned was a Suzuki.\n"
     ]
    }
   ],
   "source": [
    "#usar o método pop() para exibir uma afirmação sobre o último elemento\n",
    "motorcycles = ['honda', 'yamaha', 'suzuki']\n",
    " \n",
    "last_owned = motorcycles.pop() \n",
    "print(\"The last motorcycle I owned was a \" + last_owned.title() + \".\")"
   ]
  },
  {
   "cell_type": "code",
   "execution_count": 16,
   "metadata": {},
   "outputs": [
    {
     "name": "stdout",
     "output_type": "stream",
     "text": [
      "The first motorcycle I owned was a Honda.\n"
     ]
    }
   ],
   "source": [
    "#usar o método pop() para exibir uma afirmação sobre o primeiro elemento\n",
    "first_owned = motorcycles.pop(0)\n",
    "print('The first motorcycle I owned was a ' + first_owned.title() + '.')"
   ]
  },
  {
   "cell_type": "code",
   "execution_count": 17,
   "metadata": {},
   "outputs": [
    {
     "name": "stdout",
     "output_type": "stream",
     "text": [
      "['honda', 'yamaha', 'suzuki', 'ducati']\n",
      "['honda', 'yamaha', 'suzuki']\n"
     ]
    }
   ],
   "source": [
    "#removendo um item de acordo com o valor\n",
    "motorcycles = ['honda', 'yamaha', 'suzuki', 'ducati'] \n",
    "print(motorcycles)\n",
    " \n",
    "motorcycles.remove('ducati')\n",
    "print(motorcycles) "
   ]
  },
  {
   "cell_type": "code",
   "execution_count": 18,
   "metadata": {},
   "outputs": [
    {
     "name": "stdout",
     "output_type": "stream",
     "text": [
      "['honda', 'yamaha', 'suzuki']\n",
      "\n",
      "A Ducati is too expensive for me.\n"
     ]
    }
   ],
   "source": [
    "motorcycles.insert(2, 'ducati') #inserindo ducati na lista\n",
    "\n",
    "#removendo \"ducati\" da lista e acrescentando uma frase.\n",
    "too_expensive = 'ducati'\n",
    "motorcycles.remove(too_expensive)\n",
    "print(motorcycles)\n",
    "print(\"\\nA \" + too_expensive.title() + \" is too expensive for me.\")"
   ]
  },
  {
   "cell_type": "code",
   "execution_count": 19,
   "metadata": {},
   "outputs": [
    {
     "name": "stdout",
     "output_type": "stream",
     "text": [
      "['audi', 'bmw', 'subaru', 'toyota']\n"
     ]
    }
   ],
   "source": [
    "#O método sort() de Python faz com que seja relativamente fácil ordenar uma lista\n",
    "cars = ['bmw', 'audi', 'toyota', 'subaru'] \n",
    "cars.sort()\n",
    "print(cars) "
   ]
  },
  {
   "cell_type": "code",
   "execution_count": 20,
   "metadata": {},
   "outputs": [
    {
     "name": "stdout",
     "output_type": "stream",
     "text": [
      "['toyota', 'subaru', 'bmw', 'audi']\n"
     ]
    }
   ],
   "source": [
    "#Também podemos ordenar essa lista em ordem alfabética inversa,\n",
    "#passando o argumento reverse=True ao método sort()\n",
    "\n",
    "cars.sort(reverse=True)\n",
    "print(cars) "
   ]
  },
  {
   "cell_type": "code",
   "execution_count": 21,
   "metadata": {},
   "outputs": [
    {
     "name": "stdout",
     "output_type": "stream",
     "text": [
      "['audi', 'bmw', 'subaru', 'toyota']\n"
     ]
    }
   ],
   "source": [
    "#Exibindo uma lista em ordem inversa \n",
    "cars.reverse()\n",
    "print(cars)"
   ]
  },
  {
   "cell_type": "code",
   "execution_count": 22,
   "metadata": {},
   "outputs": [
    {
     "data": {
      "text/plain": [
       "4"
      ]
     },
     "execution_count": 22,
     "metadata": {},
     "output_type": "execute_result"
    }
   ],
   "source": [
    "#Descobrindo o tamanho de uma lista\n",
    "cars = ['bmw', 'audi', 'toyota', 'subaru']\n",
    "len(cars) "
   ]
  },
  {
   "cell_type": "code",
   "execution_count": 23,
   "metadata": {},
   "outputs": [
    {
     "name": "stdout",
     "output_type": "stream",
     "text": [
      "alice\n",
      "david\n",
      "carolina\n"
     ]
    }
   ],
   "source": [
    "#Percorrendo uma lista inteira com um laço\n",
    "magicians = ['alice', 'david', 'carolina'] \n",
    "for magician in magicians: \n",
    "    print(magician) "
   ]
  },
  {
   "cell_type": "code",
   "execution_count": 24,
   "metadata": {},
   "outputs": [
    {
     "name": "stdout",
     "output_type": "stream",
     "text": [
      "Alice, that was a great trick!\n",
      "David, that was a great trick!\n",
      "Carolina, that was a great trick!\n"
     ]
    }
   ],
   "source": [
    "#Executando mais tarefas em um laço for \n",
    "magicians = ['alice', 'david', 'carolina'] \n",
    "for magician in magicians: \n",
    "    print(magician.title() + \", that was a great trick!\") "
   ]
  },
  {
   "cell_type": "code",
   "execution_count": 25,
   "metadata": {},
   "outputs": [
    {
     "name": "stdout",
     "output_type": "stream",
     "text": [
      "Alice, that was a great trick!\n",
      "I can't wait to see your next trick, Alice.\n",
      "\n",
      "David, that was a great trick!\n",
      "I can't wait to see your next trick, David.\n",
      "\n",
      "Carolina, that was a great trick!\n",
      "I can't wait to see your next trick, Carolina.\n",
      "\n"
     ]
    }
   ],
   "source": [
    "#Executando mais tarefas em um laço for \n",
    "magicians = ['alice', 'david', 'carolina'] \n",
    "for magician in magicians: \n",
    "    print(magician.title() + \", that was a great trick!\") \n",
    "    print(\"I can't wait to see your next trick, \" + magician.title() + \".\\n\") "
   ]
  },
  {
   "cell_type": "code",
   "execution_count": 26,
   "metadata": {},
   "outputs": [
    {
     "name": "stdout",
     "output_type": "stream",
     "text": [
      "Alice, that was a great trick!\n",
      "I can't wait to see your next trick, Alice.\n",
      "\n",
      "David, that was a great trick!\n",
      "I can't wait to see your next trick, David.\n",
      "\n",
      "Carolina, that was a great trick!\n",
      "I can't wait to see your next trick, Carolina.\n",
      "\n",
      "Thank you, everyone. That was a great magic show!\n"
     ]
    }
   ],
   "source": [
    "#Fazendo algo após um laço for \n",
    "magicians = ['alice', 'david', 'carolina'] \n",
    "for magician in magicians: \n",
    "    print(magician.title() + \", that was a great trick!\") \n",
    "    print(\"I can't wait to see your next trick, \" + magician.title() + \".\\n\") \n",
    "print(\"Thank you, everyone. That was a great magic show!\") "
   ]
  },
  {
   "cell_type": "code",
   "execution_count": 27,
   "metadata": {},
   "outputs": [
    {
     "name": "stdout",
     "output_type": "stream",
     "text": [
      "1\n",
      "2\n",
      "3\n",
      "4\n"
     ]
    }
   ],
   "source": [
    "#Usando a função range() \n",
    "#A função range() de Python facilita gerar uma série de números.\n",
    "for value in range(1,5):\n",
    "    print(value) "
   ]
  },
  {
   "cell_type": "code",
   "execution_count": 28,
   "metadata": {},
   "outputs": [
    {
     "name": "stdout",
     "output_type": "stream",
     "text": [
      "[1, 2, 3, 4, 5]\n"
     ]
    }
   ],
   "source": [
    "#Usando range() para criar uma lista de números\n",
    "numbers = list(range(1,6))\n",
    "print(numbers) "
   ]
  },
  {
   "cell_type": "code",
   "execution_count": 29,
   "metadata": {},
   "outputs": [
    {
     "name": "stdout",
     "output_type": "stream",
     "text": [
      "[2, 4, 6, 8, 10]\n"
     ]
    }
   ],
   "source": [
    "#Usando range() para criar uma lista de números iguinorando alguns números\n",
    "#Nesse exemplo, a função range() começa com o valor 2 e então soma 2 a esse valor.\n",
    "#O valor 2 é somado repetidamente até o valor final, que é 11, ser alcançado ou ultrapassado\n",
    "even_numbers = list(range(2,11,2))\n",
    "print(even_numbers)"
   ]
  },
  {
   "cell_type": "code",
   "execution_count": 30,
   "metadata": {},
   "outputs": [
    {
     "name": "stdout",
     "output_type": "stream",
     "text": [
      "[1]\n",
      "[1, 4]\n",
      "[1, 4, 9]\n",
      "[1, 4, 9, 16]\n",
      "[1, 4, 9, 16, 25]\n",
      "[1, 4, 9, 16, 25, 36]\n",
      "[1, 4, 9, 16, 25, 36, 49]\n",
      "[1, 4, 9, 16, 25, 36, 49, 64]\n",
      "[1, 4, 9, 16, 25, 36, 49, 64, 81]\n",
      "[1, 4, 9, 16, 25, 36, 49, 64, 81, 100]\n"
     ]
    }
   ],
   "source": [
    "#Podemos criar praticamente qualquer conjunto de números que quisermos com a função range().\n",
    "#Por exemplo, considere como criaríamos uma lista dos dez primeiros quadrados perfeitos\n",
    "#             (isto é, o quadrado de cada inteiro de 1 a 10).\n",
    "#Em Python, dois asteriscos (**) representam exponenciais. \n",
    "#Eis o modo como podemos colocar os dez primeiros quadrados perfeitos em uma lista: \n",
    "\n",
    "squares = []\n",
    "for value in range(1,11): \n",
    "    square = value**2     \n",
    "    squares.append(square)\n",
    "    print(squares) "
   ]
  },
  {
   "cell_type": "code",
   "execution_count": 31,
   "metadata": {},
   "outputs": [
    {
     "name": "stdout",
     "output_type": "stream",
     "text": [
      "0\n",
      "9\n",
      "45\n"
     ]
    }
   ],
   "source": [
    "#Estatísticas simples com uma lista de números\n",
    "digits = [1, 2, 3, 4, 5, 6, 7, 8, 9, 0] \n",
    "print (min(digits)) \n",
    "print (max(digits))\n",
    "print (sum(digits))"
   ]
  },
  {
   "cell_type": "code",
   "execution_count": 32,
   "metadata": {},
   "outputs": [
    {
     "name": "stdout",
     "output_type": "stream",
     "text": [
      "[1, 4, 9, 16, 25, 36, 49, 64, 81, 100]\n"
     ]
    }
   ],
   "source": [
    "#List comprehensions \n",
    "#A abordagem descrita antes para gerar a lista squares usou três ou quatro linhas de código. \n",
    "#Uma list comprehension (abrangência de lista) permite gerar essa mesma \n",
    "#    lista com apenas uma linha de código. \n",
    "squares = [value**2 for value in range(1,11)]\n",
    "print(squares) "
   ]
  },
  {
   "cell_type": "code",
   "execution_count": 33,
   "metadata": {},
   "outputs": [
    {
     "name": "stdout",
     "output_type": "stream",
     "text": [
      "['charles', 'martina', 'michael']\n",
      "['martina', 'michael', 'florence']\n",
      "['charles', 'martina', 'michael', 'florence']\n",
      "['michael', 'florence', 'eli']\n",
      "['michael', 'florence', 'eli']\n"
     ]
    }
   ],
   "source": [
    "#Fatiando uma lista\n",
    "players = ['charles', 'martina', 'michael', 'florence', 'eli']\n",
    "print(players[0:3]) \n",
    "print(players[1:4])\n",
    "print(players[:4]) \n",
    "print(players[2:])\n",
    "print(players[-3:]) "
   ]
  },
  {
   "cell_type": "code",
   "execution_count": 34,
   "metadata": {},
   "outputs": [
    {
     "name": "stdout",
     "output_type": "stream",
     "text": [
      "Here are the first three players on my team:\n",
      "Charles\n",
      "Martina\n",
      "Michael\n"
     ]
    }
   ],
   "source": [
    "#Percorrendo uma fatia com um laço \n",
    "players = ['charles', 'martina', 'michael', 'florence', 'eli']\n",
    "print(\"Here are the first three players on my team:\")\n",
    "for player in players[:3]:    \n",
    "    print(player.title()) "
   ]
  },
  {
   "cell_type": "code",
   "execution_count": 35,
   "metadata": {},
   "outputs": [
    {
     "name": "stdout",
     "output_type": "stream",
     "text": [
      "My favorite foods are:\n",
      "['pizza', 'falafel', 'carrot cake']\n",
      "\n",
      "My friend's favorite foods are:\n",
      "['pizza', 'falafel', 'carrot cake']\n"
     ]
    }
   ],
   "source": [
    "#Copiando uma lista \n",
    "my_foods = ['pizza', 'falafel', 'carrot cake'] \n",
    "friend_foods = my_foods[:]\n",
    " \n",
    "print(\"My favorite foods are:\") \n",
    "print(my_foods)\n",
    " \n",
    "print(\"\\nMy friend's favorite foods are:\")\n",
    "print(friend_foods)"
   ]
  },
  {
   "cell_type": "code",
   "execution_count": 36,
   "metadata": {},
   "outputs": [
    {
     "name": "stdout",
     "output_type": "stream",
     "text": [
      "My favorite foods are:\n",
      "['pizza', 'falafel', 'carrot cake', 'cannoli']\n",
      "\n",
      "My friend's favorite foods are:\n",
      "['pizza', 'falafel', 'carrot cake', 'ice cream']\n"
     ]
    }
   ],
   "source": [
    "my_foods.append('cannoli')\n",
    "friend_foods.append('ice cream') \n",
    "print(\"My favorite foods are:\") \n",
    "print(my_foods)\n",
    " \n",
    "print(\"\\nMy friend's favorite foods are:\")\n",
    "print(friend_foods) "
   ]
  },
  {
   "cell_type": "code",
   "execution_count": 37,
   "metadata": {},
   "outputs": [
    {
     "name": "stdout",
     "output_type": "stream",
     "text": [
      "200\n",
      "50\n"
     ]
    }
   ],
   "source": [
    "#Definindo uma tupla\n",
    "#Uma tupla se parece exatamente com uma lista, exceto por usar parênteses no lugar de colchetes. \n",
    "#Depois de definir uma tupla, podemos acessar elementos individuais usando o índice de cada item,\n",
    "#      como faríamos com uma lista. \n",
    "\n",
    "dimensions = (200, 50)\n",
    "print(dimensions[0])\n",
    "print(dimensions[1]) "
   ]
  },
  {
   "cell_type": "code",
   "execution_count": 38,
   "metadata": {},
   "outputs": [
    {
     "name": "stdout",
     "output_type": "stream",
     "text": [
      "200\n",
      "50\n"
     ]
    }
   ],
   "source": [
    "#Percorrendo todos os valores de uma tupla com um laço \n",
    "for dimension in dimensions:\n",
    "    print(dimension) "
   ]
  },
  {
   "cell_type": "code",
   "execution_count": 39,
   "metadata": {},
   "outputs": [
    {
     "name": "stdout",
     "output_type": "stream",
     "text": [
      "Original dimensions:\n",
      "200\n",
      "\n",
      "Modified dimensions:\n",
      "400\n",
      "100\n",
      "50\n",
      "\n",
      "Modified dimensions:\n",
      "400\n",
      "100\n"
     ]
    }
   ],
   "source": [
    "#Sobrescrevendo uma tupla \n",
    "print(\"Original dimensions:\")\n",
    "for dimension in dimensions:  \n",
    "    print(dimension) \n",
    "    \n",
    "    dimensions = (400, 100)\n",
    "    print(\"\\nModified dimensions:\")\n",
    "    for dimension in dimensions:   \n",
    "        print(dimension) "
   ]
  },
  {
   "cell_type": "code",
   "execution_count": 40,
   "metadata": {},
   "outputs": [
    {
     "name": "stdout",
     "output_type": "stream",
     "text": [
      "Audi\n",
      "BMW\n",
      "Subaru\n",
      "Toyota\n"
     ]
    }
   ],
   "source": [
    "cars = ['audi', 'bmw', 'subaru', 'toyota']\n",
    "for car in cars: \n",
    "    if car == 'bmw':\n",
    "            print(car.upper())\n",
    "    else:\n",
    "            print(car.title())   "
   ]
  },
  {
   "cell_type": "code",
   "execution_count": 41,
   "metadata": {},
   "outputs": [
    {
     "name": "stdout",
     "output_type": "stream",
     "text": [
      "You are old enough to vote!\n"
     ]
    }
   ],
   "source": [
    "age = 19 \n",
    "if age >= 18: \n",
    "         print(\"You are old enough to vote!\") "
   ]
  },
  {
   "cell_type": "code",
   "execution_count": 42,
   "metadata": {},
   "outputs": [
    {
     "ename": "SyntaxError",
     "evalue": "invalid syntax (<ipython-input-42-698f4c07c774>, line 4)",
     "output_type": "error",
     "traceback": [
      "\u001b[1;36m  File \u001b[1;32m\"<ipython-input-42-698f4c07c774>\"\u001b[1;36m, line \u001b[1;32m4\u001b[0m\n\u001b[1;33m    elif age =< 18\u001b[0m\n\u001b[1;37m             ^\u001b[0m\n\u001b[1;31mSyntaxError\u001b[0m\u001b[1;31m:\u001b[0m invalid syntax\n"
     ]
    }
   ],
   "source": [
    "age = 1\n",
    "if age < 4:\n",
    "         print(\"Your admission cost is $0.\") \n",
    "elif age =< 18\n",
    "         print(\"Your admission cost is $5.\") \n",
    "else:\n",
    "         print(\"Your admission cost is $10.\")         "
   ]
  },
  {
   "cell_type": "code",
   "execution_count": 43,
   "metadata": {},
   "outputs": [
    {
     "name": "stdout",
     "output_type": "stream",
     "text": [
      "Adding mushrooms.\n",
      "Adding extra cheese.\n",
      "\n",
      "Finished making your pizza!\n"
     ]
    }
   ],
   "source": [
    "requested_toppings = ['mushrooms', 'extra cheese']\n",
    " \n",
    "if 'mushrooms' in requested_toppings:    \n",
    "    print(\"Adding mushrooms.\") \n",
    "if 'pepperoni' in requested_toppings:    \n",
    "    print(\"Adding pepperoni.\") \n",
    "if 'extra cheese' in requested_toppings:    \n",
    "    print(\"Adding extra cheese.\")\n",
    " \n",
    "    print(\"\\nFinished making your pizza!\") "
   ]
  },
  {
   "cell_type": "code",
   "execution_count": 44,
   "metadata": {},
   "outputs": [
    {
     "name": "stdout",
     "output_type": "stream",
     "text": [
      "Adding mushrooms.\n",
      "Adding green peppers.\n",
      "Adding extra cheese.\n",
      "\n",
      "Finished making your pizza!\n"
     ]
    }
   ],
   "source": [
    "\n",
    "requested_toppings = ['mushrooms', 'green peppers', 'extra cheese']\n",
    " \n",
    "for requested_topping in requested_toppings:    print(\"Adding \" + requested_topping + \".\")\n",
    " \n",
    "print(\"\\nFinished making your pizza!\")"
   ]
  },
  {
   "cell_type": "code",
   "execution_count": 45,
   "metadata": {},
   "outputs": [
    {
     "name": "stdout",
     "output_type": "stream",
     "text": [
      "Adding mushrooms.\n",
      "Sorry, we don't have french fries.\n",
      "Adding extra cheese.\n",
      "\n",
      "Finished making your pizza!\n"
     ]
    }
   ],
   "source": [
    "##Usando várias listas\n",
    "available_toppings = ['mushrooms', 'olives', 'green peppers', \n",
    "                       'pepperoni', 'pineapple', 'extra cheese']\n",
    "    \n",
    "requested_toppings = ['mushrooms', 'french fries', 'extra cheese']  \n",
    "\n",
    "for requested_topping in requested_toppings:\n",
    "    if requested_topping in available_toppings:\n",
    "        print(\"Adding \" + requested_topping + \".\") \n",
    "        \n",
    "    else:  \n",
    "        print(\"Sorry, we don't have \" + requested_topping + \".\")\n",
    "        \n",
    "        \n",
    "print(\"\\nFinished making your pizza!\")         "
   ]
  },
  {
   "cell_type": "markdown",
   "metadata": {},
   "source": [
    "### Dicionários\n",
    "\n",
    "Um dicionário em Python é uma coleção de pares chave-valor.\n",
    "\n",
    "Cada chave é conectada a um valor, e você pode usar uma chave para acessar o valor associado a ela.\n",
    "\n",
    "O valor de uma chave pode ser um número, uma string, uma lista ou até mesmo outro dicionário. \n",
    "\n",
    "Em Python, um dicionário é representado entre chaves, {}, com uma série de pares chave-valor entre elas, como mostramos no exemplo anterior:"
   ]
  },
  {
   "cell_type": "code",
   "execution_count": 46,
   "metadata": {},
   "outputs": [
    {
     "name": "stdout",
     "output_type": "stream",
     "text": [
      "green\n",
      "5\n"
     ]
    }
   ],
   "source": [
    "\n",
    "alien_0 = {'color': 'green', 'points': 5}\n",
    " \n",
    "print(alien_0['color'])\n",
    "print(alien_0['points']) "
   ]
  },
  {
   "cell_type": "code",
   "execution_count": 47,
   "metadata": {},
   "outputs": [
    {
     "name": "stdout",
     "output_type": "stream",
     "text": [
      "You just earned 5 points!\n"
     ]
    }
   ],
   "source": [
    "new_points = alien_0['points'] \n",
    "print(\"You just earned \" + str(new_points) + \" points!\")"
   ]
  },
  {
   "cell_type": "code",
   "execution_count": 48,
   "metadata": {},
   "outputs": [
    {
     "name": "stdout",
     "output_type": "stream",
     "text": [
      "{'color': 'green', 'points': 5, 'x_position': 0, 'y_position': 25}\n"
     ]
    }
   ],
   "source": [
    "alien_0['x_position'] = 0 \n",
    "alien_0['y_position'] = 25\n",
    "print(alien_0) "
   ]
  },
  {
   "cell_type": "code",
   "execution_count": 49,
   "metadata": {},
   "outputs": [
    {
     "name": "stdout",
     "output_type": "stream",
     "text": [
      "{'color': 'green', 'points': 5}\n"
     ]
    }
   ],
   "source": [
    "#Começando com dicionários vazios\n",
    "alien_0 = {}\n",
    "\n",
    "alien_0['color'] = 'green' \n",
    "alien_0['points'] = 5\n",
    " \n",
    "print(alien_0)     "
   ]
  },
  {
   "cell_type": "code",
   "execution_count": 50,
   "metadata": {},
   "outputs": [
    {
     "name": "stdout",
     "output_type": "stream",
     "text": [
      "The alien is green.\n",
      "The alien is now yellow.\n"
     ]
    }
   ],
   "source": [
    "#Modificando valores em um dicionário \n",
    "alien_0 = {'color': 'green'}\n",
    "print(\"The alien is \" + alien_0['color'] + \".\")\n",
    "\n",
    "alien_0['color'] = 'yellow'\n",
    "print(\"The alien is now \" + alien_0['color'] + \".\") \n",
    " "
   ]
  },
  {
   "cell_type": "code",
   "execution_count": 51,
   "metadata": {},
   "outputs": [
    {
     "name": "stdout",
     "output_type": "stream",
     "text": [
      "Original x-position: 0\n",
      "New x-position: 2\n"
     ]
    }
   ],
   "source": [
    "#Modificando valores em um dicionário cont...\n",
    "alien_0 = {'x_position': 0, 'y_position': 25, 'speed': 'medium'} \n",
    "print(\"Original x-position: \" + str(alien_0['x_position']))\n",
    "\n",
    "# Move o alienígena para a direita \n",
    "# Determina a distância que o alienígena deve se deslocar de acordo com sua velocidade atual\n",
    "if alien_0['speed'] == 'slow': \n",
    "    x_increment = 1\n",
    "elif alien_0['speed'] == 'medium': \n",
    "     x_increment = 2 \n",
    "else:\n",
    "    # Este deve ser um alienígena rápido\n",
    "    x_increment = 3\n",
    "            \n",
    "# A nova posição é a posição antiga somada ao incremento \n",
    "alien_0['x_position'] = alien_0['x_position'] + x_increment\n",
    "\n",
    "print(\"New x-position: \" + str(alien_0['x_position'])) "
   ]
  },
  {
   "cell_type": "code",
   "execution_count": 52,
   "metadata": {},
   "outputs": [
    {
     "name": "stdout",
     "output_type": "stream",
     "text": [
      "{'color': 'green', 'points': 5}\n",
      "{'color': 'green'}\n"
     ]
    }
   ],
   "source": [
    "#Removendo pares chave-valor \n",
    "alien_0 = {'color': 'green', 'points': 5} \n",
    "print(alien_0)\n",
    "\n",
    "del alien_0['points'] \n",
    "print(alien_0)  "
   ]
  },
  {
   "cell_type": "code",
   "execution_count": 53,
   "metadata": {},
   "outputs": [],
   "source": [
    "#Um dicionário de objetos semelhantes \n",
    "favorite_languages = {'jen': 'python', 'sarah': 'c', \n",
    "                      'edward': 'ruby', 'phil': 'python',} "
   ]
  },
  {
   "cell_type": "code",
   "execution_count": 54,
   "metadata": {},
   "outputs": [
    {
     "name": "stdout",
     "output_type": "stream",
     "text": [
      "Sarah's favorite language is C.\n"
     ]
    }
   ],
   "source": [
    " print(\"Sarah's favorite language is \" + favorite_languages['sarah'].title() + \".\") "
   ]
  },
  {
   "cell_type": "code",
   "execution_count": 55,
   "metadata": {},
   "outputs": [
    {
     "name": "stdout",
     "output_type": "stream",
     "text": [
      "\n",
      "Key: username\n",
      "Value: efermi\n",
      "\n",
      "Key: first\n",
      "Value: enrico\n",
      "\n",
      "Key: last\n",
      "Value: fermi\n"
     ]
    }
   ],
   "source": [
    "#Percorrendo todos pares chave-valor com um laço\n",
    "user_0 = {'username': 'efermi', 'first': 'enrico', 'last': 'fermi',} \n",
    "\n",
    "for key, value in user_0.items(): \n",
    "    print(\"\\nKey: \" + key) \n",
    "    print(\"Value: \" + value) "
   ]
  },
  {
   "cell_type": "code",
   "execution_count": 56,
   "metadata": {},
   "outputs": [
    {
     "name": "stdout",
     "output_type": "stream",
     "text": [
      "Jen's favorite language is Python.\n",
      "Sarah's favorite language is C.\n",
      "Edward's favorite language is Ruby.\n",
      "Phil's favorite language is Python.\n"
     ]
    }
   ],
   "source": [
    " for name, language in favorite_languages.items(): \n",
    "         print(name.title() + \"'s favorite language is \" + language.title() + \".\") "
   ]
  },
  {
   "cell_type": "code",
   "execution_count": 57,
   "metadata": {},
   "outputs": [
    {
     "name": "stdout",
     "output_type": "stream",
     "text": [
      "Jen\n",
      "Sarah\n",
      "Edward\n",
      "Phil\n"
     ]
    }
   ],
   "source": [
    "#Percorrendo todas as chaves de um dicionário com um laço \n",
    "for name in favorite_languages.keys():\n",
    "    print(name.title()) "
   ]
  },
  {
   "cell_type": "code",
   "execution_count": 58,
   "metadata": {},
   "outputs": [
    {
     "name": "stdout",
     "output_type": "stream",
     "text": [
      "Jen\n",
      "Sarah\n",
      "Edward\n",
      "Phil\n"
     ]
    }
   ],
   "source": [
    "for name in favorite_languages: \n",
    "     print(name.title()) "
   ]
  },
  {
   "cell_type": "code",
   "execution_count": 59,
   "metadata": {},
   "outputs": [
    {
     "name": "stdout",
     "output_type": "stream",
     "text": [
      "Jen\n",
      "Sarah\n",
      "Edward\n",
      "Phil\n",
      "  Hi Phil, I see your favorite language is Python!\n"
     ]
    }
   ],
   "source": [
    "friends = ['phil', 'edward'] \n",
    "for name in favorite_languages.keys():\n",
    "     print(name.title()) \n",
    "        \n",
    "if name in friends:\n",
    "     print(\"  Hi \" + name.title() + \", I see your favorite language is \" + \n",
    "           favorite_languages[name].title() + \"!\") "
   ]
  },
  {
   "cell_type": "code",
   "execution_count": 60,
   "metadata": {},
   "outputs": [
    {
     "name": "stdout",
     "output_type": "stream",
     "text": [
      "Erin, please take our poll!\n"
     ]
    }
   ],
   "source": [
    "if 'erin' not in favorite_languages.keys(): \n",
    "    print(\"Erin, please take our poll!\") "
   ]
  },
  {
   "cell_type": "code",
   "execution_count": 61,
   "metadata": {},
   "outputs": [
    {
     "name": "stdout",
     "output_type": "stream",
     "text": [
      "Edward, thank you for taking the poll.\n",
      "Jen, thank you for taking the poll.\n",
      "Phil, thank you for taking the poll.\n",
      "Sarah, thank you for taking the poll.\n"
     ]
    }
   ],
   "source": [
    "#Percorrendo as chaves de um dicionário em ordem usando um laço \n",
    "for name in sorted(favorite_languages.keys()):\n",
    "     print(name.title() + \", thank you for taking the poll.\") "
   ]
  },
  {
   "cell_type": "code",
   "execution_count": 62,
   "metadata": {},
   "outputs": [
    {
     "name": "stdout",
     "output_type": "stream",
     "text": [
      "The following languages have been mentioned:\n",
      "Python\n",
      "C\n",
      "Ruby\n",
      "Python\n"
     ]
    }
   ],
   "source": [
    "#Percorrendo todos os valores de um dicionário com um laço \n",
    "print(\"The following languages have been mentioned:\")\n",
    "\n",
    "for language in favorite_languages.values(): \n",
    "    print(language.title()) "
   ]
  },
  {
   "cell_type": "code",
   "execution_count": 63,
   "metadata": {},
   "outputs": [
    {
     "name": "stdout",
     "output_type": "stream",
     "text": [
      "{'color': 'green', 'points': 5}\n",
      "{'color': 'yellow', 'points': 10}\n",
      "{'color': 'red', 'points': 15}\n"
     ]
    }
   ],
   "source": [
    "alien_0 = {'color': 'green', 'points': 5}\n",
    "alien_1 = {'color': 'yellow', 'points': 10}\n",
    "alien_2 = {'color': 'red', 'points': 15}\n",
    "\n",
    "aliens = [alien_0, alien_1, alien_2]\n",
    "\n",
    "for alien in aliens: \n",
    "    print(alien)  "
   ]
  },
  {
   "cell_type": "code",
   "execution_count": 64,
   "metadata": {},
   "outputs": [
    {
     "name": "stdout",
     "output_type": "stream",
     "text": [
      "{'color': 'green', 'points': 5, 'speed': 'slow'}\n",
      "{'color': 'green', 'points': 5, 'speed': 'slow'}\n",
      "{'color': 'green', 'points': 5, 'speed': 'slow'}\n",
      "{'color': 'green', 'points': 5, 'speed': 'slow'}\n",
      "{'color': 'green', 'points': 5, 'speed': 'slow'}\n",
      "...\n",
      "Total number of aliens: 30\n"
     ]
    }
   ],
   "source": [
    "# Cria uma lista vazia para armazenar alienígenas \n",
    "aliens = []\n",
    "\n",
    "# Cria 30 alienígenas verdes \n",
    "for alien_number in range(30):\n",
    "    new_alien = {'color': 'green', 'points': 5, 'speed': 'slow'} \n",
    "    aliens.append(new_alien)\n",
    "        \n",
    "# Mostra os 5 primeiros alienígenas \n",
    "for alien in aliens[:5]: \n",
    "    print(alien)\n",
    "print(\"...\")\n",
    "\n",
    " # Mostra quantos alienígenas foram criados \n",
    "print(\"Total number of aliens: \" + str(len(aliens)))        "
   ]
  },
  {
   "cell_type": "code",
   "execution_count": 65,
   "metadata": {},
   "outputs": [
    {
     "name": "stdout",
     "output_type": "stream",
     "text": [
      "{'color': 'yellow', 'points': 10, 'speed': 'medium'}\n",
      "{'color': 'yellow', 'points': 10, 'speed': 'medium'}\n",
      "{'color': 'yellow', 'points': 10, 'speed': 'medium'}\n",
      "{'color': 'green', 'points': 5, 'speed': 'slow'}\n",
      "{'color': 'green', 'points': 5, 'speed': 'slow'}\n",
      "...\n"
     ]
    }
   ],
   "source": [
    "for alien in aliens[0:3]:\n",
    "    if alien['color'] == 'green':\n",
    "        alien['color'] = 'yellow'\n",
    "        alien['speed'] = 'medium'\n",
    "        alien['points'] = 10   \n",
    "        \n",
    "for alien in aliens[:5]: \n",
    "    print(alien)\n",
    "print(\"...\")        "
   ]
  },
  {
   "cell_type": "code",
   "execution_count": 66,
   "metadata": {},
   "outputs": [
    {
     "name": "stdout",
     "output_type": "stream",
     "text": [
      "You ordered a thick-crust pizza with the following toppings:\n",
      "\tmushrooms\n",
      "\textra cheese\n"
     ]
    }
   ],
   "source": [
    "#Uma lista em um dicionário \n",
    "# Armazena informações sobre uma pizza que está sendo pedida \n",
    "pizza = {'crust': 'thick', 'toppings': ['mushrooms', 'extra cheese'],}\n",
    "\n",
    "# Resume o pedido \n",
    "print(\"You ordered a \" + pizza['crust'] + \"-crust pizza \" + \"with the following toppings:\")\n",
    "for topping in pizza['toppings']:\n",
    "    print(\"\\t\" + topping) \n"
   ]
  },
  {
   "cell_type": "code",
   "execution_count": 67,
   "metadata": {},
   "outputs": [
    {
     "name": "stdout",
     "output_type": "stream",
     "text": [
      "\n",
      "Jen's favorite languages are:\n",
      "\tPython\n",
      "\tRuby\n",
      "\n",
      "Sarah's favorite languages are:\n",
      "\tC\n",
      "\n",
      "Edward's favorite languages are:\n",
      "\tRuby\n",
      "\tGo\n",
      "\n",
      "Phil's favorite languages are:\n",
      "\tPython\n",
      "\tHaskell\n"
     ]
    }
   ],
   "source": [
    "favorite_languages = {'jen': ['python', 'ruby'],'sarah': ['c'],\n",
    "                       'edward': ['ruby', 'go'], 'phil': ['python', 'haskell'],}\n",
    "    \n",
    "for name, languages in favorite_languages.items():\n",
    "    print(\"\\n\" + name.title() + \"'s favorite languages are:\") \n",
    "    for language in languages:\n",
    "             print(\"\\t\" + language.title()) "
   ]
  },
  {
   "cell_type": "code",
   "execution_count": 68,
   "metadata": {},
   "outputs": [
    {
     "name": "stdout",
     "output_type": "stream",
     "text": [
      "\n",
      "Username: aeinstein\n",
      "\tFull name: Albert Einstein\n",
      "\n",
      "Username: mcurie\n",
      "\tFull name: Marie Curie\n"
     ]
    }
   ],
   "source": [
    "#Um dicionário em um dicionário\n",
    "users = {'aeinstein': {'first': 'albert', 'last': 'einstein','location': 'princeton',},\n",
    "         'mcurie': {'first': 'marie', 'last': 'curie', 'location': 'paris',}, }\n",
    "\n",
    "for username, user_info in users.items(): \n",
    "    print(\"\\nUsername: \" + username) \n",
    "    full_name = user_info['first'] + \" \" + user_info['last']\n",
    "    location = user_info['location']\n",
    "        \n",
    "    print(\"\\tFull name: \" + full_name.title())        "
   ]
  },
  {
   "cell_type": "raw",
   "metadata": {},
   "source": []
  },
  {
   "cell_type": "markdown",
   "metadata": {},
   "source": [
    "# ENTRADA DE USUÁRIO E LAÇOS WHILE"
   ]
  },
  {
   "cell_type": "code",
   "execution_count": 69,
   "metadata": {},
   "outputs": [
    {
     "name": "stdout",
     "output_type": "stream",
     "text": [
      "Tell me something, and I will repeat it back to you: Sol\n",
      "Sol\n"
     ]
    }
   ],
   "source": [
    "#Como a função input() trabalha\n",
    "message = input(\"Tell me something, and I will repeat it back to you: \")\n",
    "print(message) "
   ]
  },
  {
   "cell_type": "code",
   "execution_count": 70,
   "metadata": {},
   "outputs": [
    {
     "name": "stdout",
     "output_type": "stream",
     "text": [
      "Please enter your name: Sol\n",
      "Hello, Sol!\n"
     ]
    }
   ],
   "source": [
    "#Escrevendo prompts claros \n",
    "name = input(\"Please enter your name: \") \n",
    "print(\"Hello, \" + name + \"!\")"
   ]
  },
  {
   "cell_type": "code",
   "execution_count": 71,
   "metadata": {},
   "outputs": [
    {
     "name": "stdout",
     "output_type": "stream",
     "text": [
      "If you tell us who you are, we can personalize the messages you see.\n",
      "What is your first name? Sol\n",
      "\n",
      "Hello, Sol!\n"
     ]
    }
   ],
   "source": [
    "prompt = \"If you tell us who you are, we can personalize the messages you see.\"\n",
    "prompt += \"\\nWhat is your first name? \"\n",
    "\n",
    "name = input(prompt) \n",
    "print(\"\\nHello, \" + name + \"!\") "
   ]
  },
  {
   "cell_type": "code",
   "execution_count": 73,
   "metadata": {},
   "outputs": [
    {
     "name": "stdout",
     "output_type": "stream",
     "text": [
      "How old are you? 60\n"
     ]
    },
    {
     "data": {
      "text/plain": [
       "True"
      ]
     },
     "execution_count": 73,
     "metadata": {},
     "output_type": "execute_result"
    }
   ],
   "source": [
    "#Usando int() para aceitar entradas numéricas \n",
    "age = input(\"How old are you? \") \n",
    "age = int(age) \n",
    "age >= 18 "
   ]
  },
  {
   "cell_type": "code",
   "execution_count": 75,
   "metadata": {},
   "outputs": [
    {
     "name": "stdout",
     "output_type": "stream",
     "text": [
      "How tall are you, in inches? 29\n",
      "\n",
      "You'll be able to ride when you're a little older.\n"
     ]
    }
   ],
   "source": [
    "height = input(\"How tall are you, in inches? \")\n",
    "height = int(height)\n",
    "\n",
    "if height >= 36:\n",
    "     print(\"\\nYou're tall enough to ride!\") \n",
    "else:\n",
    "     print(\"\\nYou'll be able to ride when you're a little older.\") "
   ]
  },
  {
   "cell_type": "markdown",
   "metadata": {},
   "source": [
    "### Operador de módulo\n",
    "\n",
    "Uma ferramenta útil para trabalhar com informações numéricas é o operador de módulo (%), que divide um número por outro e devolve o resto:\n",
    "\n",
    "O operador de módulo não diz quantas vezes um número cabe em outro; ele simplesmente informa o resto. "
   ]
  },
  {
   "cell_type": "code",
   "execution_count": 76,
   "metadata": {},
   "outputs": [
    {
     "data": {
      "text/plain": [
       "1"
      ]
     },
     "execution_count": 76,
     "metadata": {},
     "output_type": "execute_result"
    }
   ],
   "source": [
    " 4 % 3 "
   ]
  },
  {
   "cell_type": "code",
   "execution_count": 77,
   "metadata": {},
   "outputs": [
    {
     "data": {
      "text/plain": [
       "2"
      ]
     },
     "execution_count": 77,
     "metadata": {},
     "output_type": "execute_result"
    }
   ],
   "source": [
    " 5 % 3 "
   ]
  },
  {
   "cell_type": "code",
   "execution_count": 78,
   "metadata": {},
   "outputs": [
    {
     "data": {
      "text/plain": [
       "0"
      ]
     },
     "execution_count": 78,
     "metadata": {},
     "output_type": "execute_result"
    }
   ],
   "source": [
    " 6 % 3 "
   ]
  },
  {
   "cell_type": "code",
   "execution_count": 79,
   "metadata": {},
   "outputs": [
    {
     "name": "stdout",
     "output_type": "stream",
     "text": [
      "Enter a number, and I'll tell you if it's even or odd: 31\n",
      "\n",
      "The number 31 is odd.\n"
     ]
    }
   ],
   "source": [
    "#Quando um número é divisível por outro, o resto é 0, portanto o operador de módulo \n",
    "#sempre devolve 0 nesse caso. \n",
    "#Podemos usar esse fato para determinar se um número é par ou ímpar: \n",
    "\n",
    "number = input(\"Enter a number, and I'll tell you if it's even or odd: \") \n",
    "number = int(number)\n",
    "\n",
    "if number % 2 == 0:\n",
    "     print(\"\\nThe number \" + str(number) + \" is even.\") \n",
    "else:\n",
    "    print(\"\\nThe number \" + str(number) + \" is odd.\") "
   ]
  },
  {
   "cell_type": "raw",
   "metadata": {},
   "source": [
    "\n"
   ]
  },
  {
   "cell_type": "markdown",
   "metadata": {},
   "source": [
    "### Introdução aos laços while \n",
    "\n",
    "O laço for toma uma coleção de itens e executa um bloco de código uma vez para cada item da coleção. \n",
    "\n",
    "Em comparação, o laço while executa durante o tempo em que, ou enquanto, uma determinada condição for verdadeira. "
   ]
  },
  {
   "cell_type": "code",
   "execution_count": 80,
   "metadata": {},
   "outputs": [
    {
     "name": "stdout",
     "output_type": "stream",
     "text": [
      "1\n",
      "2\n",
      "3\n",
      "4\n",
      "5\n"
     ]
    }
   ],
   "source": [
    "#Laço while em ação \n",
    "#Podemos usar um laço while para contar uma série de números. \n",
    "#Por exemplo, o laço while a seguir conta de 1 a 5: \n",
    "\n",
    "current_number = 1\n",
    "while current_number <= 5:\n",
    "    print(current_number)\n",
    "    current_number += 1 "
   ]
  },
  {
   "cell_type": "code",
   "execution_count": 81,
   "metadata": {},
   "outputs": [
    {
     "name": "stdout",
     "output_type": "stream",
     "text": [
      "\n",
      "Tell me something, and I will repeat it back to you:\n",
      "Enter 'quit' to end the program. Sol\n",
      "Sol\n",
      "\n",
      "Tell me something, and I will repeat it back to you:\n",
      "Enter 'quit' to end the program. quit\n",
      "quit\n"
     ]
    }
   ],
   "source": [
    "\n",
    "#Deixando o usuário decidir quando quer sair \n",
    "prompt = \"\\nTell me something, and I will repeat it back to you:\"\n",
    "prompt += \"\\nEnter 'quit' to end the program. \"\n",
    "\n",
    "message = \"\"\n",
    "while message != 'quit':\n",
    "    message = input(prompt)\n",
    "    print(message) "
   ]
  },
  {
   "cell_type": "code",
   "execution_count": 82,
   "metadata": {},
   "outputs": [
    {
     "name": "stdout",
     "output_type": "stream",
     "text": [
      "\n",
      "Tell me something, and I will repeat it back to you:\n",
      "Enter 'quit' to end the program. Sol\n",
      "Sol\n",
      "\n",
      "Tell me something, and I will repeat it back to you:\n",
      "Enter 'quit' to end the program. quit\n"
     ]
    }
   ],
   "source": [
    "#Usando uma flag \n",
    "active = True \n",
    "while active:\n",
    "    message = input(prompt)\n",
    "        \n",
    "    if message == 'quit':\n",
    "        active = False \n",
    "    else:       \n",
    "        print(message)          "
   ]
  },
  {
   "cell_type": "code",
   "execution_count": 83,
   "metadata": {},
   "outputs": [
    {
     "name": "stdout",
     "output_type": "stream",
     "text": [
      "\n",
      "Please enter the name of a city you have visited:\n",
      "(Enter 'quit' when you are finished.) Sol\n",
      "I'd love to go to Sol!\n",
      "\n",
      "Please enter the name of a city you have visited:\n",
      "(Enter 'quit' when you are finished.) quit\n"
     ]
    }
   ],
   "source": [
    "#Usando break para sair de um laço \n",
    "prompt = \"\\nPlease enter the name of a city you have visited:\"\n",
    "prompt += \"\\n(Enter 'quit' when you are finished.) \"\n",
    "\n",
    "while True: \n",
    "    city = input(prompt)\n",
    "    if city == 'quit':\n",
    "        break\n",
    "    else:\n",
    "        print(\"I'd love to go to \" + city.title() + \"!\")  "
   ]
  },
  {
   "cell_type": "code",
   "execution_count": 84,
   "metadata": {},
   "outputs": [
    {
     "name": "stdout",
     "output_type": "stream",
     "text": [
      "1\n",
      "3\n",
      "5\n",
      "7\n",
      "9\n"
     ]
    }
   ],
   "source": [
    "#Usando continue em um laço \n",
    "current_number = 0 \n",
    "while current_number < 10: \n",
    "    current_number += 1\n",
    "    if current_number % 2 == 0: \n",
    "        continue \n",
    "           \n",
    "            \n",
    "    print(current_number) "
   ]
  },
  {
   "cell_type": "code",
   "execution_count": 85,
   "metadata": {},
   "outputs": [
    {
     "name": "stdout",
     "output_type": "stream",
     "text": [
      "1\n",
      "2\n",
      "3\n",
      "4\n",
      "5\n"
     ]
    }
   ],
   "source": [
    "#Evitando loops infinitos \n",
    "x = 1\n",
    "while x <= 5:\n",
    "    print(x)\n",
    "    x += 1"
   ]
  },
  {
   "cell_type": "code",
   "execution_count": 3,
   "metadata": {},
   "outputs": [
    {
     "name": "stdout",
     "output_type": "stream",
     "text": [
      "Verifying user: Candace\n",
      "Verifying user: Brian\n",
      "Verifying user: Alice\n",
      "\n",
      "The following users have been confirmed:\n",
      "Candace\n",
      "Brian\n",
      "Alice\n"
     ]
    }
   ],
   "source": [
    "# Começa com os usuários que precisam ser verificados,\n",
    "#  e com uma lista vazia para armazenar os usuários confirmados \n",
    "\n",
    "unconfirmed_users = ['alice', 'brian', 'candace'] \n",
    "confirmed_users = []\n",
    "\n",
    "# Verifica cada usuário até que não haja mais usuários não confirmados\n",
    "# Transfere cada usuário verificado para a lista de usuários confirmados \n",
    "while unconfirmed_users: \n",
    "    current_user = unconfirmed_users.pop()\n",
    "        \n",
    "    print(\"Verifying user: \" + current_user.title()) \n",
    "    confirmed_users.append(current_user)\n",
    "\n",
    "            \n",
    "# Exibe todos os usuários confirmados \n",
    "print(\"\\nThe following users have been confirmed:\") \n",
    "for confirmed_user in confirmed_users:\n",
    "    print(confirmed_user.title())"
   ]
  },
  {
   "cell_type": "code",
   "execution_count": 4,
   "metadata": {},
   "outputs": [
    {
     "name": "stdout",
     "output_type": "stream",
     "text": [
      "['dog', 'cat', 'dog', 'goldfish', 'cat', 'rabbit', 'cat']\n",
      "['dog', 'dog', 'goldfish', 'rabbit']\n"
     ]
    }
   ],
   "source": [
    "#Removendo todas as instâncias de valores específicos de uma lista \n",
    "pets = ['dog', 'cat', 'dog', 'goldfish', 'cat', 'rabbit', 'cat']\n",
    "print(pets)\n",
    " \n",
    "while 'cat' in pets:\n",
    "    pets.remove('cat')\n",
    "    \n",
    "print(pets) \n"
   ]
  },
  {
   "cell_type": "code",
   "execution_count": 3,
   "metadata": {},
   "outputs": [
    {
     "name": "stdout",
     "output_type": "stream",
     "text": [
      "\n",
      "What is your name? Solange\n",
      "Which mountain would you like to climb someday? Aconcágua\n",
      "Would you like to let another person respond? (yes/ no) yes\n",
      "\n",
      "What is your name? Maria\n",
      "Which mountain would you like to climb someday? Aconcágua\n",
      "Would you like to let another person respond? (yes/ no) no\n",
      "\n",
      "--- Poll Results ---\n",
      "Solange would like to climb Aconcágua.\n",
      "Maria would like to climb Aconcágua.\n"
     ]
    }
   ],
   "source": [
    "#Preenchendo um dicionário com dados de entrada do usuário \n",
    "responses = {}\n",
    " \n",
    "# Define uma flag para indicar que a enquete está ativa \n",
    "polling_active = True\n",
    " \n",
    "while polling_active: \n",
    "    # Pede o nome da pessoa e a resposta \n",
    "    name = input(\"\\nWhat is your name? \") \n",
    "    response = input(\"Which mountain would you like to climb someday? \")\n",
    "    \n",
    "     # Armazena a resposta no dicionário \n",
    "    responses[name] = response\n",
    "    \n",
    "     # Descobre se outra pessoa vai responder à enquete \n",
    "    repeat = input(\"Would you like to let another person respond? (yes/ no) \")\n",
    "    if repeat == 'no':\n",
    "        polling_active = False  \n",
    "#A enquete foi concluída. Mostra os resultados\n",
    "print(\"\\n--- Poll Results ---\") \n",
    "for name, response in responses.items():\n",
    "    print(name + \" would like to climb \" + response + \".\") \n",
    "        "
   ]
  },
  {
   "cell_type": "raw",
   "metadata": {},
   "source": []
  },
  {
   "cell_type": "markdown",
   "metadata": {},
   "source": [
    "# FUNÇÕES"
   ]
  },
  {
   "cell_type": "markdown",
   "metadata": {},
   "source": [
    "### Definindo uma função"
   ]
  },
  {
   "cell_type": "code",
   "execution_count": 5,
   "metadata": {},
   "outputs": [
    {
     "name": "stdout",
     "output_type": "stream",
     "text": [
      "Hello!\n"
     ]
    }
   ],
   "source": [
    "#Eis uma função simples chamada greet_user() que exibe uma saudação: \n",
    "#Qualquer linha indentada após def greet_user(): faz parte do corpo da função.\n",
    "#O texto em v é um comentário chamado docstring, que descreve o que a função faz.\n",
    "#As docstrings são colocadas entre aspas triplas, que Python\n",
    "#procura quando gera a documentação das funções de seus programas.\n",
    "\n",
    "def greet_user(): \n",
    "    \"\"\"Exibe uma saudação simples.\"\"\" \n",
    "    print(\"Hello!\")\n",
    "    \n",
    "greet_user()     "
   ]
  },
  {
   "cell_type": "markdown",
   "metadata": {},
   "source": [
    "### Passando informações para uma função "
   ]
  },
  {
   "cell_type": "code",
   "execution_count": 1,
   "metadata": {},
   "outputs": [
    {
     "name": "stdout",
     "output_type": "stream",
     "text": [
      "Hello, Jesse!\n"
     ]
    }
   ],
   "source": [
    "#Se for um pouco modificada, a função greet_user() não só pode dizer Hello! ao usuário \n",
    "#como também pode saudá-lo pelo nome\n",
    "def greet_user(username):\n",
    "    \"\"\"Exibe uma saudação simples.\"\"\"\n",
    "    print(\"Hello, \" + username.title() + \"!\") \n",
    "    \n",
    "greet_user('jesse') "
   ]
  },
  {
   "cell_type": "markdown",
   "metadata": {},
   "source": [
    "### Argumentos e parâmetros \n",
    "\n",
    "Na função greet_user() anterior, definimos greet_user() para que exija um valor para a variável username. \n",
    "\n",
    "Depois que chamamos a função e lhe fornecemos a informação (o nome de uma pessoa), a saudação correta foi exibida. \n",
    "\n",
    "A variável username na definição de greet_user() é um exemplo de parâmetro – uma informação de que a função precisa para executar sua tarefa. \n",
    "\n",
    "O valor 'jesse' em greet_user('jesse') é um exemplo de argumento. \n",
    "\n",
    "Um argumento é uma informação passada para uma função em sua chamada.\n",
    "\n",
    "Quando chamamos a função, colocamos entre parênteses o valor com que queremos que a função trabalhe.\n",
    "\n",
    "Nesse caso, o argumento 'jesse' foi passado para a função greet_user() e o valor foi armazenado no parâmetro username. "
   ]
  },
  {
   "cell_type": "markdown",
   "metadata": {},
   "source": [
    "### Argumentos posicionais \n",
    "\n",
    "Quando chamamos uma função, Python precisa fazer a correspondência entre cada argumento da chamada da função e um parâmetro da definição. \n",
    "\n",
    "A maneira mais simples de fazer isso é contar com a ordem dos argumentos fornecidos. \n",
    "\n",
    "Valores cuja correspondência seja feita dessa maneira são chamados de argumentos posicionais. "
   ]
  },
  {
   "cell_type": "code",
   "execution_count": 4,
   "metadata": {},
   "outputs": [
    {
     "name": "stdout",
     "output_type": "stream",
     "text": [
      "\n",
      "I have a hamster.\n",
      "My hamster's name is Harry.\n",
      "\n",
      "I have a dog.\n",
      "My dog's name is Willie.\n"
     ]
    }
   ],
   "source": [
    " def describe_pet(animal_type, pet_name): \n",
    "        \"\"\"Exibe informações sobre um animal de estimação.\"\"\" \n",
    "        print(\"\\nI have a \" + animal_type + \".\")\n",
    "        print(\"My \" + animal_type + \"'s name is \" + pet_name.title() + \".\")\n",
    "        \n",
    "describe_pet('hamster', 'harry')   \n",
    "describe_pet('dog', 'willie') "
   ]
  },
  {
   "cell_type": "markdown",
   "metadata": {},
   "source": [
    "### Devolvendo um valor simples\n",
    "\n",
    "Vamos observar uma função que aceite um primeiro nome e um sobrenome e devolva um nome completo formatado de modo elegante: "
   ]
  },
  {
   "cell_type": "code",
   "execution_count": 6,
   "metadata": {},
   "outputs": [
    {
     "name": "stdout",
     "output_type": "stream",
     "text": [
      "Jimi Hendrix\n"
     ]
    }
   ],
   "source": [
    "def get_formatted_name(first_name, last_name): \n",
    "    \"\"\"Devolve um nome completo formatado de modo elegante.\"\"\" \n",
    "    full_name = first_name + ' ' + last_name \n",
    "    return full_name.title()\n",
    "\n",
    "musician = get_formatted_name('jimi', 'hendrix')\n",
    "print(musician) "
   ]
  },
  {
   "cell_type": "markdown",
   "metadata": {},
   "source": [
    "### Deixando um argumento opcional \n",
    "\n",
    "Às vezes, faz sentido criar um argumento opcional para que as pessoas que usarem a função possam optar por fornecer informações extras somente se quiserem.\n",
    "\n",
    "Valores default podem ser usados para deixar um argumento opcional. "
   ]
  },
  {
   "cell_type": "code",
   "execution_count": 7,
   "metadata": {},
   "outputs": [
    {
     "name": "stdout",
     "output_type": "stream",
     "text": [
      "John Lee Hooker\n"
     ]
    }
   ],
   "source": [
    "def get_formatted_name(first_name, middle_name, last_name):\n",
    "    \"\"\"Devolve um nome completo formatado de modo elegante.\"\"\"\n",
    "    full_name = first_name + ' ' + middle_name + ' ' + last_name\n",
    "    return full_name.title()\n",
    " \n",
    "musician = get_formatted_name('john', 'lee', 'hooker')\n",
    "print(musician) "
   ]
  },
  {
   "cell_type": "markdown",
   "metadata": {},
   "source": [
    "No entanto, nomes do meio nem sempre são necessários, e essa função, conforme está escrita, não seria apropriada se tentássemos chamá-la somente com um primeiro nome e um sobrenome. "
   ]
  },
  {
   "cell_type": "code",
   "execution_count": 11,
   "metadata": {},
   "outputs": [
    {
     "name": "stdout",
     "output_type": "stream",
     "text": [
      "Jimi Hendrix\n",
      "John Lee Hooker\n"
     ]
    }
   ],
   "source": [
    "def get_formatted_name(first_name, last_name, middle_name=''): \n",
    "    \"\"\"Devolve um nome completo formatado de modo elegante.\"\"\"\n",
    "    if middle_name:\n",
    "        full_name = first_name + ' ' + middle_name + ' ' + last_name \n",
    "    else:  \n",
    "        full_name = first_name + ' ' + last_name   \n",
    "    return full_name.title()\n",
    "        \n",
    "musician = get_formatted_name('jimi', 'hendrix')\n",
    "print(musician)\n",
    "\n",
    "musician = get_formatted_name('john', 'hooker', 'lee')   \n",
    "print(musician)"
   ]
  },
  {
   "cell_type": "markdown",
   "metadata": {},
   "source": [
    "### Devolvendo um dicionário \n",
    "\n",
    "Uma função pode devolver qualquer tipo de valor necessário, incluindo estruturas de dados mais complexas como listas e dicionários. \n",
    "\n",
    "Por exemplo, a função a seguir aceita partes de um nome e devolve um dicionário que representa uma pessoa: "
   ]
  },
  {
   "cell_type": "code",
   "execution_count": 13,
   "metadata": {},
   "outputs": [
    {
     "name": "stdout",
     "output_type": "stream",
     "text": [
      "{'first': 'jimi', 'last': 'hendrix'}\n"
     ]
    }
   ],
   "source": [
    "def build_person(first_name, last_name): \n",
    "    \"\"\"Devolve um dicionário com informações sobre uma pessoa.\"\"\" \n",
    "    person = {'first': first_name, 'last': last_name} \n",
    "    return person\n",
    "\n",
    "musician = build_person('jimi', 'hendrix') \n",
    "print(musician)"
   ]
  },
  {
   "cell_type": "markdown",
   "metadata": {},
   "source": [
    "### Usando uma função com um laço while \n",
    "\n",
    "Podemos usar funções com todas as estruturas Python que conhecemos até agora.\n",
    "\n",
    "Por exemplo, vamos usar a função get_formatted_name() com um laço while para saudar os usuários de modo mais formal.\n",
    "\n",
    " Eis uma primeira tentativa de saudar pessoas usando seu primeiro nome e o sobrenome: "
   ]
  },
  {
   "cell_type": "code",
   "execution_count": 4,
   "metadata": {},
   "outputs": [
    {
     "name": "stdout",
     "output_type": "stream",
     "text": [
      "\n",
      "Please tell me your name:\n",
      "First name: Sol\n",
      "Last name: Oliveira\n",
      "\n",
      "Please tell me your name:\n",
      "First name: q\n"
     ]
    },
    {
     "ename": "NameError",
     "evalue": "name 'get_formatted_name' is not defined",
     "output_type": "error",
     "traceback": [
      "\u001b[1;31m---------------------------------------------------------------------------\u001b[0m",
      "\u001b[1;31mNameError\u001b[0m                                 Traceback (most recent call last)",
      "\u001b[1;32m<ipython-input-4-ffe05c34b585>\u001b[0m in \u001b[0;36m<module>\u001b[1;34m\u001b[0m\n\u001b[0;32m     10\u001b[0m \u001b[1;33m\u001b[0m\u001b[0m\n\u001b[0;32m     11\u001b[0m \u001b[1;33m\u001b[0m\u001b[0m\n\u001b[1;32m---> 12\u001b[1;33m \u001b[0mformatted_name\u001b[0m \u001b[1;33m=\u001b[0m \u001b[0mget_formatted_name\u001b[0m\u001b[1;33m(\u001b[0m\u001b[0mf_name\u001b[0m\u001b[1;33m,\u001b[0m \u001b[0ml_name\u001b[0m\u001b[1;33m)\u001b[0m\u001b[1;33m\u001b[0m\u001b[1;33m\u001b[0m\u001b[0m\n\u001b[0m\u001b[0;32m     13\u001b[0m \u001b[0mprint\u001b[0m\u001b[1;33m(\u001b[0m\u001b[1;34m\"\\nHello, \"\u001b[0m \u001b[1;33m+\u001b[0m \u001b[0mformatted_name\u001b[0m \u001b[1;33m+\u001b[0m \u001b[1;34m\"!\"\u001b[0m\u001b[1;33m)\u001b[0m\u001b[1;33m\u001b[0m\u001b[1;33m\u001b[0m\u001b[0m\n",
      "\u001b[1;31mNameError\u001b[0m: name 'get_formatted_name' is not defined"
     ]
    }
   ],
   "source": [
    "# Este é um loop infinito!\n",
    "while True: \n",
    "    print(\"\\nPlease tell me your name:\") \n",
    "    f_name = input(\"First name: \") \n",
    "    if f_name == 'q':\n",
    "        break \n",
    "    l_name = input(\"Last name: \")\n",
    "    if l_name == 'q':\n",
    "        break\n",
    " \n",
    "    \n",
    "formatted_name = get_formatted_name(f_name, l_name)\n",
    "print(\"\\nHello, \" + formatted_name + \"!\")"
   ]
  },
  {
   "cell_type": "markdown",
   "metadata": {},
   "source": [
    "### Passando uma lista para uma função \n",
    "\n",
    "Com frequência, você achará útil passar uma lista para uma função, seja uma lista de nomes, de números ou de objetos mais complexos, como dicionários.\n",
    "\n",
    "Se passarmos uma lista a uma função, ela terá acesso direto ao conteúdo dessa lista. \n",
    "\n",
    "Vamos usar funções para que o trabalho com listas seja mais eficiente.  "
   ]
  },
  {
   "cell_type": "code",
   "execution_count": 43,
   "metadata": {},
   "outputs": [
    {
     "ename": "IndentationError",
     "evalue": "unindent does not match any outer indentation level (<tokenize>, line 5)",
     "output_type": "error",
     "traceback": [
      "\u001b[1;36m  File \u001b[1;32m\"<tokenize>\"\u001b[1;36m, line \u001b[1;32m5\u001b[0m\n\u001b[1;33m    for name in names:\u001b[0m\n\u001b[1;37m    ^\u001b[0m\n\u001b[1;31mIndentationError\u001b[0m\u001b[1;31m:\u001b[0m unindent does not match any outer indentation level\n"
     ]
    }
   ],
   "source": [
    "\n",
    "def greet_users(names):\n",
    "     \"\"\"Exibe uma saudação simples a cada usuário da lista.\"\"\" \n",
    "\n",
    "    for name in names: \n",
    "        msg = \"Hello, \" + name.title() + \"!\"  \n",
    "        print(msg)\n",
    "\n",
    "usernames = ['hannah', 'ty', 'margot']\n",
    "greet_users(usernames)     "
   ]
  },
  {
   "cell_type": "markdown",
   "metadata": {},
   "source": [
    "### Modificando uma lista em uma função \n",
    "\n",
    "Quando passamos uma lista a uma função, ela pode ser modificada. \n",
    "\n",
    "Qualquer alteração feita na lista no corpo da função é permanente, permitindo trabalhar de modo eficiente, mesmo quando lidamos com grandes quantidades de dados. "
   ]
  },
  {
   "cell_type": "code",
   "execution_count": 34,
   "metadata": {},
   "outputs": [
    {
     "name": "stdout",
     "output_type": "stream",
     "text": [
      "Printing model: dodecahedron\n",
      "Printing model: robot pendant\n",
      "Printing model: iphone case\n",
      "\n",
      "The following models have been printed:\n",
      "dodecahedron\n",
      "robot pendant\n",
      "iphone case\n"
     ]
    }
   ],
   "source": [
    "#Começa com alguns designs que devem ser impressos\n",
    "unprinted_designs = ['iphone case', 'robot pendant', 'dodecahedron']\n",
    "completed_models = []\n",
    "\n",
    "#Simula a impressão de cada design, até que não haja mais nenhum \n",
    "#Transfere cada design para completed_models após a impressão \n",
    "while unprinted_designs: \n",
    "    current_design = unprinted_designs.pop()\n",
    "    \n",
    "    #Simula a criação de uma impressão 3D a partir do design \n",
    "    print(\"Printing model: \" + current_design)\n",
    "    completed_models.append(current_design)\n",
    "        \n",
    "#Exibe todos os modelos finalizados   \n",
    "print(\"\\nThe following models have been printed:\") \n",
    "for completed_model in completed_models:\n",
    "     print(completed_model) "
   ]
  },
  {
   "cell_type": "code",
   "execution_count": 41,
   "metadata": {},
   "outputs": [
    {
     "name": "stdout",
     "output_type": "stream",
     "text": [
      "Printing model: dodecahedron\n",
      "Printing model: robot pendant\n",
      "Printing model: iphone case\n",
      "\n",
      "The following models have been printed:\n",
      "dodecahedron\n",
      "robot pendant\n",
      "iphone case\n"
     ]
    }
   ],
   "source": [
    "def print_models(unprinted_designs, completed_models):\n",
    "    \"\"\"Simula a impressão de cada design, até que não haja mais nenhum.\n",
    "     Transfere cada design para completed_models após a impressão.\"\"\"\n",
    "        \n",
    "    while unprinted_designs:\n",
    "        current_design = unprinted_designs.pop() \n",
    "                \n",
    "        #Simula a criação de uma impressão 3D a partir do design\n",
    "        print(\"Printing model: \" + current_design)\n",
    "        completed_models.append(current_design)\n",
    "                \n",
    "def show_completed_models(completed_models):\n",
    "    \"\"\"Mostra todos os modelos impressos.\"\"\"\n",
    "    print(\"\\nThe following models have been printed:\")\n",
    "    for completed_model in completed_models:\n",
    "        print(completed_model)\n",
    "        \n",
    "unprinted_designs = ['iphone case', 'robot pendant', 'dodecahedron']\n",
    "completed_models = []        \n",
    "\n",
    "print_models(unprinted_designs, completed_models)\n",
    "show_completed_models(completed_models) "
   ]
  },
  {
   "cell_type": "markdown",
   "metadata": {},
   "source": [
    "### Passando um número arbitrário de argumentos \n",
    "\n",
    "Às vezes, você não saberá com antecedência quantos argumentos uma função deve aceitar.\n",
    "\n",
    "Felizmente, Python permite que uma função receba um número arbitrário de argumentos da instrução de chamada. \n",
    "\n",
    "O asterisco no nome do parâmetro *toppings diz a Python para criar uma tupla vazia chamada toppings e reunir os valores recebidos nessa tupla. "
   ]
  },
  {
   "cell_type": "code",
   "execution_count": 45,
   "metadata": {},
   "outputs": [
    {
     "name": "stdout",
     "output_type": "stream",
     "text": [
      "('pepperoni',)\n",
      "('mushrooms', 'green peppers', 'extra cheese')\n"
     ]
    }
   ],
   "source": [
    "def make_pizza(*toppings):\n",
    "    \"\"\"Exibe a lista de ingredientes pedidos.\"\"\"  \n",
    "    print(toppings)\n",
    "    \n",
    "make_pizza('pepperoni')\n",
    "make_pizza('mushrooms', 'green peppers', 'extra cheese')     "
   ]
  },
  {
   "cell_type": "code",
   "execution_count": 46,
   "metadata": {},
   "outputs": [
    {
     "name": "stdout",
     "output_type": "stream",
     "text": [
      "\n",
      "Making a pizza with the following toppings:\n",
      "- pepperoni\n",
      "\n",
      "Making a pizza with the following toppings:\n",
      "- mushrooms\n",
      "- green peppers\n",
      "- extra cheese\n"
     ]
    }
   ],
   "source": [
    "def make_pizza(*toppings): \n",
    "    \"\"\"Apresenta a pizza que estamos prestes a preparar.\"\"\" \n",
    "    print(\"\\nMaking a pizza with the following toppings:\")\n",
    "    for topping in toppings:\n",
    "        print(\"- \" + topping)\n",
    "        \n",
    "make_pizza('pepperoni')\n",
    "make_pizza('mushrooms', 'green peppers', 'extra cheese')         "
   ]
  },
  {
   "cell_type": "markdown",
   "metadata": {},
   "source": [
    "### Misturando argumentos posicionais e arbitrários\n",
    "\n",
    "Se quiser que uma função aceite vários tipos de argumentos, o parâmetro que aceita um número arbitrário de argumentos deve ser colocado por último na definição da função. \n",
    "\n",
    "Python faz a correspondência de argumentos posicionais e nomeados antes, e depois agrupa qualquer argumento remanescente no último parâmetro. \n",
    "\n",
    "Na definição da função, Python armazena o primeiro valor recebido no parâmetro size. \n",
    "\n",
    "Todos os demais valores que vierem depois são armazenados na tupla toppings. \n",
    "\n",
    "As chamadas da função incluem um argumento para o tamanho antes, seguido de tantos ingredientes quantos forem necessários. "
   ]
  },
  {
   "cell_type": "code",
   "execution_count": 47,
   "metadata": {},
   "outputs": [
    {
     "name": "stdout",
     "output_type": "stream",
     "text": [
      "\n",
      "Making a 16-inch pizza with the following toppings:\n",
      "- pepperoni\n",
      "\n",
      "Making a 12-inch pizza with the following toppings:\n",
      "- mushrooms\n",
      "- green peppers\n",
      "- extra cheese\n"
     ]
    }
   ],
   "source": [
    "def make_pizza(size, *toppings):\n",
    "    \"\"\"Apresenta a pizza que estamos prestes a preparar.\"\"\"\n",
    "    print(\"\\nMaking a \" + str(size) +          \"-inch pizza with the following toppings:\") \n",
    "    for topping in toppings:\n",
    "        print(\"- \" + topping)\n",
    "        \n",
    "make_pizza(16, 'pepperoni')\n",
    "make_pizza(12, 'mushrooms', 'green peppers', 'extra cheese')         "
   ]
  },
  {
   "cell_type": "markdown",
   "metadata": {},
   "source": [
    "### Usando argumentos nomeados arbitrários \n",
    "\n",
    "Às vezes, você vai querer aceitar um número arbitrário de argumentos, mas não saberá com antecedência qual tipo de informação será passado para a função. \n",
    "\n",
    "Nesse caso, podemos escrever funções que aceitem tantos pares chave-valor quantos forem fornecidos pela instrução que faz a chamada. \n",
    " \n",
    "A definição de build_profile() espera um primeiro nome e um sobrenome e permite que o usuário passe tantos pares nome-valor quantos ele quiser. \n",
    " \n",
    "Os asteriscos duplos antes do parâmetro **user_info fazem Python criar um dicionário vazio chamado user_info e colocar quaisquer pares nome-valor recebidos nesse dicionário. \n",
    "\n",
    "Nessa função, podemos acessar os pares nome-valor em user_info como faríamos com qualquer dicionário. "
   ]
  },
  {
   "cell_type": "code",
   "execution_count": 48,
   "metadata": {},
   "outputs": [
    {
     "name": "stdout",
     "output_type": "stream",
     "text": [
      "{'first_name': 'albert', 'last_name': 'einstein', 'location': 'princeton', 'field': 'physics'}\n"
     ]
    }
   ],
   "source": [
    "def build_profile(first, last, **user_info):\n",
    "    \"\"\"Constrói um dicionário contendo tudo que sabemos sobre um usuário.\"\"\"\n",
    "    profile = {} \n",
    "    profile['first_name'] = first\n",
    "    profile['last_name'] = last \n",
    "    for key, value in user_info.items():\n",
    "        profile[key] = value \n",
    "    return profile\n",
    "\n",
    "user_profile = build_profile('albert', 'einstein', location='princeton', field='physics')\n",
    "print(user_profile) "
   ]
  },
  {
   "cell_type": "markdown",
   "metadata": {},
   "source": [
    "### Armazenando suas funções em módulos \n",
    "\n",
    "Uma vantagem das funções é a maneira como elas separam blocos de código de seu programa principal.\n",
    "\n",
    "Ao usar nomes descritivos para suas funções, será bem mais fácil entender o seu programa principal. \n",
    "\n",
    "Você pode dar um passo além armazenando suas funções em um arquivo separado chamado módulo e, então, importar esse módulo em seu programa principal. \n",
    " \n",
    " Uma instrução import diz a Python para deixar o código de um módulo disponível no arquivo de programa em execução no momento. "
   ]
  },
  {
   "cell_type": "markdown",
   "metadata": {},
   "source": [
    "### Importando um módulo completo\n",
    "\n",
    "Para começar a importar funções, inicialmente precisamos criar um módulo. \n",
    "\n",
    "Um módulo é um arquivo terminado em .py que contém o código que queremos importar para o nosso programa.\n",
    " \n",
    "Vamos criar um módulo que contenha a função make_pizza().\n",
    " \n",
    "Para criar esse módulo, removeremos tudo que está no arquivo pizza.py, exceto a função make_pizza(): "
   ]
  },
  {
   "cell_type": "code",
   "execution_count": 51,
   "metadata": {},
   "outputs": [
    {
     "name": "stdout",
     "output_type": "stream",
     "text": [
      "Collecting pizza\n",
      "  Downloading https://files.pythonhosted.org/packages/cc/c5/c36d4556055be1692e2442115d441c88ddbcb987b6d3e8933a4b55732805/Pizza-0.1.2.tar.gz\n",
      "Building wheels for collected packages: pizza\n",
      "  Building wheel for pizza (setup.py): started\n",
      "  Building wheel for pizza (setup.py): finished with status 'done'\n",
      "  Stored in directory: C:\\Users\\Solange.NOTE-SOLANGE\\AppData\\Local\\pip\\Cache\\wheels\\e4\\dd\\d6\\b85ff7b3220619e2ce860b8424254fa7b4f962763493cc61f0\n",
      "Successfully built pizza\n",
      "Installing collected packages: pizza\n",
      "Successfully installed pizza-0.1.2\n"
     ]
    }
   ],
   "source": [
    "!pip install pizza"
   ]
  },
  {
   "cell_type": "code",
   "execution_count": 58,
   "metadata": {},
   "outputs": [
    {
     "ename": "AttributeError",
     "evalue": "module 'pizza' has no attribute 'make_pizza'",
     "output_type": "error",
     "traceback": [
      "\u001b[1;31m---------------------------------------------------------------------------\u001b[0m",
      "\u001b[1;31mAttributeError\u001b[0m                            Traceback (most recent call last)",
      "\u001b[1;32m<ipython-input-58-35d734a9f5ba>\u001b[0m in \u001b[0;36m<module>\u001b[1;34m\u001b[0m\n\u001b[0;32m      8\u001b[0m \u001b[1;33m\u001b[0m\u001b[0m\n\u001b[0;32m      9\u001b[0m \u001b[1;33m\u001b[0m\u001b[0m\n\u001b[1;32m---> 10\u001b[1;33m \u001b[0mpizza\u001b[0m\u001b[1;33m.\u001b[0m\u001b[0mmake_pizza\u001b[0m\u001b[1;33m(\u001b[0m\u001b[1;36m16\u001b[0m\u001b[1;33m,\u001b[0m \u001b[1;34m'pepperoni'\u001b[0m\u001b[1;33m)\u001b[0m\u001b[1;33m\u001b[0m\u001b[1;33m\u001b[0m\u001b[0m\n\u001b[0m\u001b[0;32m     11\u001b[0m \u001b[0mpizza\u001b[0m\u001b[1;33m.\u001b[0m\u001b[0mmake_pizza\u001b[0m\u001b[1;33m(\u001b[0m\u001b[1;36m12\u001b[0m\u001b[1;33m,\u001b[0m \u001b[1;34m'mushrooms'\u001b[0m\u001b[1;33m,\u001b[0m \u001b[1;34m'green peppers'\u001b[0m\u001b[1;33m,\u001b[0m \u001b[1;34m'extra cheese'\u001b[0m\u001b[1;33m)\u001b[0m\u001b[1;33m\u001b[0m\u001b[1;33m\u001b[0m\u001b[0m\n",
      "\u001b[1;31mAttributeError\u001b[0m: module 'pizza' has no attribute 'make_pizza'"
     ]
    }
   ],
   "source": [
    "import pizza\n",
    "def make_pizza(size, *toppings): \n",
    "    \"\"\"Apresenta a pizza que estamos prestes a preparar.\"\"\"\n",
    "    print(\"\\nMaking a \" + str(size) +  \"-inch pizza with the following toppings:\")\n",
    "    for topping in toppings:\n",
    "        print(\"- \" + topping) \n",
    "\n",
    "\n",
    "pizza.make_pizza(16, 'pepperoni') \n",
    "pizza.make_pizza(12, 'mushrooms', 'green peppers', 'extra cheese') "
   ]
  },
  {
   "cell_type": "markdown",
   "metadata": {},
   "source": [
    "Quando Python lê esse arquivo, a linha import pizza lhe diz para abrir o arquivo pizza.py e copiar todas as funções dele para esse programa. \n",
    "\n",
    "Você não vê realmente o código sendo copiado entre os arquivos porque Python faz isso internamente, à medida que o programa executa. \n",
    "\n",
    "Tudo que você precisa saber é que qualquer função definida em pizza.py agora estará disponível em making_pizzas.py. \n",
    "\n",
    "Essa primeira abordagem à importação, em que simplesmente escrevemos import seguido do nome do módulo, deixa todas as funções do módulo disponíveis ao seu programa. "
   ]
  },
  {
   "cell_type": "markdown",
   "metadata": {},
   "source": [
    "### Importando funções específicas\n",
    "\n",
    "Podemos também importar uma função específica de um módulo. Eis a sintaxe geral para essa abordagem:\n",
    "from nome_do_módulo import nome_da_função\n",
    "\n",
    "Você pode importar quantas funções quiser de um módulo separando o nome de cada função com uma vírgula:\n",
    "from nome_do_módulo import função_0, função_1, função_2 "
   ]
  },
  {
   "cell_type": "code",
   "execution_count": 57,
   "metadata": {},
   "outputs": [
    {
     "ename": "ImportError",
     "evalue": "cannot import name 'make_pizza' from 'pizza' (C:\\Users\\Solange.NOTE-SOLANGE\\Anaconda3\\lib\\site-packages\\pizza\\__init__.py)",
     "output_type": "error",
     "traceback": [
      "\u001b[1;31m---------------------------------------------------------------------------\u001b[0m",
      "\u001b[1;31mImportError\u001b[0m                               Traceback (most recent call last)",
      "\u001b[1;32m<ipython-input-57-ae1f452f0bed>\u001b[0m in \u001b[0;36m<module>\u001b[1;34m\u001b[0m\n\u001b[0;32m      1\u001b[0m \u001b[1;32mimport\u001b[0m \u001b[0mpizza\u001b[0m\u001b[1;33m\u001b[0m\u001b[1;33m\u001b[0m\u001b[0m\n\u001b[1;32m----> 2\u001b[1;33m \u001b[1;32mfrom\u001b[0m \u001b[0mpizza\u001b[0m \u001b[1;32mimport\u001b[0m \u001b[0mmake_pizza\u001b[0m\u001b[1;33m\u001b[0m\u001b[1;33m\u001b[0m\u001b[0m\n\u001b[0m\u001b[0;32m      3\u001b[0m \u001b[1;33m\u001b[0m\u001b[0m\n\u001b[0;32m      4\u001b[0m \u001b[0mmake_pizza\u001b[0m\u001b[1;33m(\u001b[0m\u001b[1;36m16\u001b[0m\u001b[1;33m,\u001b[0m \u001b[1;34m'pepperoni'\u001b[0m\u001b[1;33m)\u001b[0m\u001b[1;33m\u001b[0m\u001b[1;33m\u001b[0m\u001b[0m\n\u001b[0;32m      5\u001b[0m \u001b[0mmake_pizza\u001b[0m\u001b[1;33m(\u001b[0m\u001b[1;36m12\u001b[0m\u001b[1;33m,\u001b[0m \u001b[1;34m'mushrooms'\u001b[0m\u001b[1;33m,\u001b[0m \u001b[1;34m'green peppers'\u001b[0m\u001b[1;33m,\u001b[0m \u001b[1;34m'extra cheese'\u001b[0m\u001b[1;33m)\u001b[0m\u001b[1;33m\u001b[0m\u001b[1;33m\u001b[0m\u001b[0m\n",
      "\u001b[1;31mImportError\u001b[0m: cannot import name 'make_pizza' from 'pizza' (C:\\Users\\Solange.NOTE-SOLANGE\\Anaconda3\\lib\\site-packages\\pizza\\__init__.py)"
     ]
    }
   ],
   "source": [
    "import pizza\n",
    "from pizza import make_pizza\n",
    "\n",
    "make_pizza(16, 'pepperoni') \n",
    "make_pizza(12, 'mushrooms', 'green peppers', 'extra cheese') "
   ]
  },
  {
   "cell_type": "markdown",
   "metadata": {},
   "source": [
    "### Usando a palavra reservada as para atribuir um alias a uma função \n",
    "\n",
    "Se o nome de uma função que você importar puder entrar em conflito com um nome existente em seu programa ou se o nome da função for longo, podemos usar um alias único e conciso, que é um nome alternativo, semelhante a um apelido para a função. \n",
    "\n",
    "Dê esse apelido especial à função quando importá-la. \n",
    " \n",
    "A seguir, atribuímos um alias mp() para a função make_pizza() importando make_pizza as mp. A palavra reservada as renomeia uma função usando o alias que você fornecer:\n"
   ]
  },
  {
   "cell_type": "code",
   "execution_count": 56,
   "metadata": {},
   "outputs": [
    {
     "ename": "SyntaxError",
     "evalue": "invalid syntax (<ipython-input-56-c4f2817fd7cd>, line 3)",
     "output_type": "error",
     "traceback": [
      "\u001b[1;36m  File \u001b[1;32m\"<ipython-input-56-c4f2817fd7cd>\"\u001b[1;36m, line \u001b[1;32m3\u001b[0m\n\u001b[1;33m    mp(16, 'pepperoni') mp(12, 'mushrooms', 'green peppers', 'extra cheese')\u001b[0m\n\u001b[1;37m                         ^\u001b[0m\n\u001b[1;31mSyntaxError\u001b[0m\u001b[1;31m:\u001b[0m invalid syntax\n"
     ]
    }
   ],
   "source": [
    "from pizza import make_pizza as mp\n",
    " \n",
    "mp(16, 'pepperoni') mp(12, 'mushrooms', 'green peppers', 'extra cheese') "
   ]
  },
  {
   "cell_type": "markdown",
   "metadata": {},
   "source": [
    "### Usando a palavra reservada as para atribuir um alias a um módulo \n",
    "\n",
    "Também podemos fornecer um alias para um nome de módulo. Dar um alias conciso a um módulo, por exemplo, p para pizza, permite chamar mais rapidamente as funções do módulo. \n",
    "\n",
    "Chamar p.make_pizza() é mais compacto que chamar pizza.make_pizza():\n",
    "\n",
    "O módulo pizza recebe o alias p na instrução import, mas todas as funções do módulo preservam seus nomes originais. \n",
    "\n",
    "Chamar as funções escrevendo p.make_pizza() não só é mais compacto que escrever pizza.make_pizza() como também desvia sua atenção do nome do módulo e permite dar enfoque aos nomes descritivos de suas funções."
   ]
  },
  {
   "cell_type": "code",
   "execution_count": 62,
   "metadata": {},
   "outputs": [
    {
     "ename": "AttributeError",
     "evalue": "module 'pizza' has no attribute 'make_pizza'",
     "output_type": "error",
     "traceback": [
      "\u001b[1;31m---------------------------------------------------------------------------\u001b[0m",
      "\u001b[1;31mAttributeError\u001b[0m                            Traceback (most recent call last)",
      "\u001b[1;32m<ipython-input-62-ccee36df7968>\u001b[0m in \u001b[0;36m<module>\u001b[1;34m\u001b[0m\n\u001b[0;32m      2\u001b[0m \u001b[1;32mfrom\u001b[0m \u001b[0mpizza\u001b[0m \u001b[1;32mimport\u001b[0m \u001b[1;33m*\u001b[0m\u001b[1;33m\u001b[0m\u001b[1;33m\u001b[0m\u001b[0m\n\u001b[0;32m      3\u001b[0m \u001b[1;33m\u001b[0m\u001b[0m\n\u001b[1;32m----> 4\u001b[1;33m \u001b[0mp\u001b[0m\u001b[1;33m.\u001b[0m\u001b[0mmake_pizza\u001b[0m\u001b[1;33m(\u001b[0m\u001b[1;36m16\u001b[0m\u001b[1;33m,\u001b[0m \u001b[1;34m'pepperoni'\u001b[0m\u001b[1;33m)\u001b[0m\u001b[1;33m\u001b[0m\u001b[1;33m\u001b[0m\u001b[0m\n\u001b[0m\u001b[0;32m      5\u001b[0m \u001b[0mp\u001b[0m\u001b[1;33m.\u001b[0m\u001b[0mmake_pizza\u001b[0m\u001b[1;33m(\u001b[0m\u001b[1;36m12\u001b[0m\u001b[1;33m,\u001b[0m \u001b[1;34m'mushrooms'\u001b[0m\u001b[1;33m,\u001b[0m \u001b[1;34m'green peppers'\u001b[0m\u001b[1;33m,\u001b[0m \u001b[1;34m'extra cheese'\u001b[0m\u001b[1;33m)\u001b[0m\u001b[1;33m\u001b[0m\u001b[1;33m\u001b[0m\u001b[0m\n",
      "\u001b[1;31mAttributeError\u001b[0m: module 'pizza' has no attribute 'make_pizza'"
     ]
    }
   ],
   "source": [
    "import pizza as p\n",
    " \n",
    "p.make_pizza(16, 'pepperoni')\n",
    "p.make_pizza(12, 'mushrooms', 'green peppers', 'extra cheese') "
   ]
  },
  {
   "cell_type": "markdown",
   "metadata": {},
   "source": [
    "### Importando todas as funções de um módulo \n",
    "\n",
    "Podemos dizer a Python para importar todas as funções de um módulo usando o operador asterisco (*):\n",
    "\n",
    "O asterisco na instrução import diz a Python para copiar todas as funções do módulo pizza para esse arquivo de programa.\n",
    "\n",
    "Como todas as funções são importadas, podemos chamar qualquer função pelo nome, sem usar a notação de ponto. \n",
    "\n",
    " No entanto, é melhor não usar essa abordagem quando trabalhar com módulos maiores, que não foram escritos por você: se o\n",
    "módulo tiver um nome de função que seja igual a um nome existente em seu projeto, você poderá ter alguns resultados inesperados. \n",
    "\n",
    " Python poderá ver várias funções ou variáveis com o mesmo nome e, em vez de importar todas as funções separadamente, ele as sobrescreverá. "
   ]
  },
  {
   "cell_type": "code",
   "execution_count": 60,
   "metadata": {},
   "outputs": [
    {
     "name": "stdout",
     "output_type": "stream",
     "text": [
      "\n",
      "Making a 16-inch pizza with the following toppings:\n",
      "- pepperoni\n",
      "\n",
      "Making a 12-inch pizza with the following toppings:\n",
      "- mushrooms\n",
      "- green peppers\n",
      "- extra cheese\n"
     ]
    }
   ],
   "source": [
    "from pizza import *\n",
    " \n",
    "make_pizza(16, 'pepperoni') \n",
    "make_pizza(12, 'mushrooms', 'green peppers', 'extra cheese') "
   ]
  },
  {
   "cell_type": "raw",
   "metadata": {},
   "source": []
  },
  {
   "cell_type": "markdown",
   "metadata": {},
   "source": [
    "# Classes\n",
    "\n",
    "A programação orientada a objetos é uma das abordagens mais eficientes para escrever software. \n",
    "\n",
    "Na programação orientada a objetos, escrevemos classes que representam entidades e situações do mundo real, e criamos objetos com base nessas classes. \n",
    "\n",
    "Quando escrevemos uma classe, definimos o comportamento geral que toda uma categoria de objetos pode ter.\n",
    "\n",
    "Quando criamos objetos individuais a partir da classe, cada objeto será automaticamente equipado com o comportamento geral; então você poderá dar a cada objeto as características únicas que desejar. \n",
    "\n",
    "Você ficará impressionado ao ver como situações do mundo real podem ser bem modeladas com a programação orientada a objetos. Criar um objeto a partir de uma classe é uma operação "
   ]
  },
  {
   "cell_type": "markdown",
   "metadata": {},
   "source": [
    "### Criando e usando uma classe \n",
    "\n",
    "Podemos modelar de tudo usando classes.\n",
    "\n",
    "#### Criando a classe Dog\n",
    "\n",
    "Cada instância criada a partir da classe Dog armazenará um nome (name) e uma idade (age), e daremos a cada cachorro a capacidade de sentar (sit()) e rolar (roll_over()): "
   ]
  },
  {
   "cell_type": "code",
   "execution_count": 63,
   "metadata": {},
   "outputs": [],
   "source": [
    " class Dog(): \n",
    "    \"\"\"Uma tentativa simples de modelar um cachorro.\"\"\" \n",
    "    def __init__(self, name, age):\n",
    "        \"\"\"Inicializa os atributos name e age.\"\"\" \n",
    "        self.name = name\n",
    "        self.age = age\n",
    "                    \n",
    "    def sit(self): \n",
    "        \"\"\"Simula um cachorro sentando em resposta a um comando.\"\"\"\n",
    "        print(self.name.title() + \" is now sitting.\")\n",
    "                            \n",
    "    def roll_over(self):\n",
    "        \"\"\"Simula um cachorro rolando em resposta a um comando.\"\"\" \n",
    "        print(self.name.title() + \" rolled over!\") "
   ]
  },
  {
   "cell_type": "markdown",
   "metadata": {},
   "source": [
    "### Criando uma instância a partir de uma classe \n",
    "\n",
    "Pense em uma classe como um conjunto de instruções para criar uma instância. \n",
    "\n",
    " A classe Dog é um conjunto de instruções que diz a Python como criar instâncias individuais que representem cachorros específicos. "
   ]
  },
  {
   "cell_type": "code",
   "execution_count": 66,
   "metadata": {},
   "outputs": [
    {
     "ename": "SyntaxError",
     "evalue": "invalid syntax (<ipython-input-66-ac18e72a42b7>, line 2)",
     "output_type": "error",
     "traceback": [
      "\u001b[1;36m  File \u001b[1;32m\"<ipython-input-66-ac18e72a42b7>\"\u001b[1;36m, line \u001b[1;32m2\u001b[0m\n\u001b[1;33m    --trecho omitido--\u001b[0m\n\u001b[1;37m                   ^\u001b[0m\n\u001b[1;31mSyntaxError\u001b[0m\u001b[1;31m:\u001b[0m invalid syntax\n"
     ]
    }
   ],
   "source": [
    "class Dog():\n",
    "     --trecho omitido--\n",
    "    \n",
    "my_dog = Dog('willie', 6)\n",
    "\n",
    "\n",
    "print(\"My dog's name is \" + my_dog.name.title() + \".\") \n",
    "print(\"My dog is \" + str(my_dog.age) + \" years old.\")     "
   ]
  },
  {
   "cell_type": "markdown",
   "metadata": {},
   "source": [
    "### Biblioteca-padrão de Python \n",
    "\n",
    "A biblioteca-padrão de Python é um conjunto de módulos incluído em todas as instalações de Python.\n",
    "\n",
    "Agora que temos uma compreensão básica de como as classes funcionam, podemos começar a usar módulos como esses, escritos por outros programadores. \n",
    "\n",
    "Podemos usar qualquer função ou classe da biblioteca-padrão incluindo uma instrução import simples no início do arquivo.\n",
    "\n",
    "Vamos analisar a classe OrderedDict do módulo collections. "
   ]
  },
  {
   "cell_type": "code",
   "execution_count": 1,
   "metadata": {},
   "outputs": [
    {
     "name": "stdout",
     "output_type": "stream",
     "text": [
      "Jen's favorite language is Python.\n",
      "Sarah's favorite language is C.\n",
      "Edward's favorite language is Ruby.\n",
      "Phil's favorite language is Python.\n"
     ]
    }
   ],
   "source": [
    "from collections import OrderedDict\n",
    "\n",
    "favorite_languages = OrderedDict()\n",
    "\n",
    "favorite_languages['jen'] = 'python' \n",
    "favorite_languages['sarah'] = 'c' \n",
    "favorite_languages['edward'] = 'ruby' \n",
    "favorite_languages['phil'] = 'python'\n",
    "\n",
    "for name, language in favorite_languages.items():\n",
    "    print(name.title() + \"'s favorite language is \" + language.title() + \".\") "
   ]
  },
  {
   "cell_type": "markdown",
   "metadata": {},
   "source": [
    "### Estilizando classes \n",
    "\n",
    "Vale a pena esclarecer algumas questões ligadas à estilização de classes, em especial quando seus programas se tornarem mais complexos. \n",
    "\n",
    "Os nomes das classes devem ser escritos com CamelCaps. Para isso, cada palavra do nome deve ter a primeira letra maiúscula, e você não deve usar underscores. \n",
    "\n",
    "Nomes de instâncias e de módulos devem ser escritos com letras minúsculas e underscores entre as palavras. \n",
    " \n",
    "Toda classe deve ter uma docstring logo depois de sua definição.\n",
    " \n",
    "A docstring deve conter uma breve descrição do que a classe faz, e as mesmas convenções de formatação devem ser usadas para escrever docstrings em funções."
   ]
  }
 ],
 "metadata": {
  "kernelspec": {
   "display_name": "Python 3",
   "language": "python",
   "name": "python3"
  },
  "language_info": {
   "codemirror_mode": {
    "name": "ipython",
    "version": 3
   },
   "file_extension": ".py",
   "mimetype": "text/x-python",
   "name": "python",
   "nbconvert_exporter": "python",
   "pygments_lexer": "ipython3",
   "version": "3.7.3"
  }
 },
 "nbformat": 4,
 "nbformat_minor": 2
}
